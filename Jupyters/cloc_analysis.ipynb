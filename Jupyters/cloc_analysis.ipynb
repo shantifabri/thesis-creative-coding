{
 "cells": [
  {
   "cell_type": "markdown",
   "id": "152f5ba9",
   "metadata": {},
   "source": [
    "# Languages, Files, LOCs and LOComments, Functions"
   ]
  },
  {
   "cell_type": "code",
   "execution_count": 1,
   "id": "1a580148",
   "metadata": {},
   "outputs": [],
   "source": [
    "# import the pandas data analysis library and refer to it as pd\n",
    "import pandas as pd\n",
    "\n",
    "n_sketches_created = 14542\n",
    "n_sketches_hearted = 14196\n",
    "n_sketches_total = n_sketches_created + n_sketches_hearted"
   ]
  },
  {
   "cell_type": "markdown",
   "id": "e91e5456",
   "metadata": {},
   "source": [
    "## General analysis\n",
    "\n",
    "Analysis about what languages and types of files are used, how many files per sketch on avg, what diferences can be seen between popular sketches and new ones"
   ]
  },
  {
   "cell_type": "markdown",
   "id": "5a64f59d",
   "metadata": {},
   "source": [
    "### Created"
   ]
  },
  {
   "cell_type": "code",
   "execution_count": 2,
   "id": "13ea10c4",
   "metadata": {},
   "outputs": [
    {
     "data": {
      "text/html": [
       "<div>\n",
       "<style scoped>\n",
       "    .dataframe tbody tr th:only-of-type {\n",
       "        vertical-align: middle;\n",
       "    }\n",
       "\n",
       "    .dataframe tbody tr th {\n",
       "        vertical-align: top;\n",
       "    }\n",
       "\n",
       "    .dataframe thead th {\n",
       "        text-align: right;\n",
       "    }\n",
       "</style>\n",
       "<table border=\"1\" class=\"dataframe\">\n",
       "  <thead>\n",
       "    <tr style=\"text-align: right;\">\n",
       "      <th></th>\n",
       "      <th>files</th>\n",
       "      <th>blank</th>\n",
       "      <th>comment</th>\n",
       "      <th>code</th>\n",
       "    </tr>\n",
       "    <tr>\n",
       "      <th>language</th>\n",
       "      <th></th>\n",
       "      <th></th>\n",
       "      <th></th>\n",
       "      <th></th>\n",
       "    </tr>\n",
       "  </thead>\n",
       "  <tbody>\n",
       "    <tr>\n",
       "      <th>SUM</th>\n",
       "      <td>28367</td>\n",
       "      <td>232606</td>\n",
       "      <td>196620</td>\n",
       "      <td>2353688</td>\n",
       "    </tr>\n",
       "    <tr>\n",
       "      <th>JavaScript</th>\n",
       "      <td>12860</td>\n",
       "      <td>174290</td>\n",
       "      <td>175887</td>\n",
       "      <td>1109659</td>\n",
       "    </tr>\n",
       "    <tr>\n",
       "      <th>HTML</th>\n",
       "      <td>10241</td>\n",
       "      <td>12166</td>\n",
       "      <td>453</td>\n",
       "      <td>126201</td>\n",
       "    </tr>\n",
       "    <tr>\n",
       "      <th>Arduino Sketch</th>\n",
       "      <td>4572</td>\n",
       "      <td>42917</td>\n",
       "      <td>19439</td>\n",
       "      <td>309369</td>\n",
       "    </tr>\n",
       "    <tr>\n",
       "      <th>CSS</th>\n",
       "      <td>402</td>\n",
       "      <td>601</td>\n",
       "      <td>209</td>\n",
       "      <td>5737</td>\n",
       "    </tr>\n",
       "    <tr>\n",
       "      <th>Text</th>\n",
       "      <td>112</td>\n",
       "      <td>1368</td>\n",
       "      <td>0</td>\n",
       "      <td>599420</td>\n",
       "    </tr>\n",
       "    <tr>\n",
       "      <th>GLSL</th>\n",
       "      <td>83</td>\n",
       "      <td>1123</td>\n",
       "      <td>486</td>\n",
       "      <td>2993</td>\n",
       "    </tr>\n",
       "    <tr>\n",
       "      <th>SVG</th>\n",
       "      <td>37</td>\n",
       "      <td>2</td>\n",
       "      <td>5</td>\n",
       "      <td>824</td>\n",
       "    </tr>\n",
       "    <tr>\n",
       "      <th>JSON</th>\n",
       "      <td>25</td>\n",
       "      <td>7</td>\n",
       "      <td>0</td>\n",
       "      <td>26973</td>\n",
       "    </tr>\n",
       "    <tr>\n",
       "      <th>CSV</th>\n",
       "      <td>21</td>\n",
       "      <td>0</td>\n",
       "      <td>0</td>\n",
       "      <td>171449</td>\n",
       "    </tr>\n",
       "    <tr>\n",
       "      <th>Markdown</th>\n",
       "      <td>10</td>\n",
       "      <td>10</td>\n",
       "      <td>0</td>\n",
       "      <td>40</td>\n",
       "    </tr>\n",
       "    <tr>\n",
       "      <th>Java</th>\n",
       "      <td>1</td>\n",
       "      <td>81</td>\n",
       "      <td>123</td>\n",
       "      <td>941</td>\n",
       "    </tr>\n",
       "    <tr>\n",
       "      <th>Python</th>\n",
       "      <td>1</td>\n",
       "      <td>40</td>\n",
       "      <td>18</td>\n",
       "      <td>76</td>\n",
       "    </tr>\n",
       "    <tr>\n",
       "      <th>INI</th>\n",
       "      <td>1</td>\n",
       "      <td>1</td>\n",
       "      <td>0</td>\n",
       "      <td>4</td>\n",
       "    </tr>\n",
       "    <tr>\n",
       "      <th>Properties</th>\n",
       "      <td>1</td>\n",
       "      <td>0</td>\n",
       "      <td>0</td>\n",
       "      <td>2</td>\n",
       "    </tr>\n",
       "  </tbody>\n",
       "</table>\n",
       "</div>"
      ],
      "text/plain": [
       "                files   blank  comment     code\n",
       "language                                       \n",
       "SUM             28367  232606   196620  2353688\n",
       "JavaScript      12860  174290   175887  1109659\n",
       "HTML            10241   12166      453   126201\n",
       "Arduino Sketch   4572   42917    19439   309369\n",
       "CSS               402     601      209     5737\n",
       "Text              112    1368        0   599420\n",
       "GLSL               83    1123      486     2993\n",
       "SVG                37       2        5      824\n",
       "JSON               25       7        0    26973\n",
       "CSV                21       0        0   171449\n",
       "Markdown           10      10        0       40\n",
       "Java                1      81      123      941\n",
       "Python              1      40       18       76\n",
       "INI                 1       1        0        4\n",
       "Properties          1       0        0        2"
      ]
     },
     "execution_count": 2,
     "metadata": {},
     "output_type": "execute_result"
    }
   ],
   "source": [
    "# read the csv file\n",
    "df_created = pd.read_csv(\"../analysis/cloc_created_skip_unique.csv\")\n",
    "df_created.set_index('language', inplace = True)\n",
    "df_created.sort_values(by=['files'], ascending=False, inplace=True)\n",
    "df_created"
   ]
  },
  {
   "cell_type": "code",
   "execution_count": 3,
   "id": "050d1410",
   "metadata": {},
   "outputs": [
    {
     "data": {
      "text/plain": [
       "1.950694539953239"
      ]
     },
     "execution_count": 3,
     "metadata": {},
     "output_type": "execute_result"
    }
   ],
   "source": [
    "# avg files per sketch\n",
    "df_created.at['SUM', 'files']/n_sketches_created"
   ]
  },
  {
   "cell_type": "code",
   "execution_count": 4,
   "id": "ee2e565a",
   "metadata": {},
   "outputs": [
    {
     "name": "stdout",
     "output_type": "stream",
     "text": [
      "694\n"
     ]
    },
    {
     "data": {
      "text/plain": [
       "0.04772383441067254"
      ]
     },
     "execution_count": 4,
     "metadata": {},
     "output_type": "execute_result"
    }
   ],
   "source": [
    "# total files not js, html or pde\n",
    "total = df_created['files'][4:].sum()\n",
    "print(total)\n",
    "\n",
    "# avg other files per sketch\n",
    "total/n_sketches_created"
   ]
  },
  {
   "cell_type": "code",
   "execution_count": 5,
   "id": "4e755098",
   "metadata": {},
   "outputs": [
    {
     "name": "stdout",
     "output_type": "stream",
     "text": [
      "27673\n"
     ]
    },
    {
     "data": {
      "text/plain": [
       "1.9029707055425664"
      ]
     },
     "execution_count": 5,
     "metadata": {},
     "output_type": "execute_result"
    }
   ],
   "source": [
    "# total files not js, html or pde\n",
    "total = df_created['files'][1:4].sum()\n",
    "print(total)\n",
    "\n",
    "# avg other files per sketch\n",
    "total/n_sketches_created"
   ]
  },
  {
   "cell_type": "markdown",
   "id": "00cad1c1",
   "metadata": {},
   "source": [
    "### Hearted"
   ]
  },
  {
   "cell_type": "code",
   "execution_count": 6,
   "id": "67670b01",
   "metadata": {},
   "outputs": [
    {
     "data": {
      "text/html": [
       "<div>\n",
       "<style scoped>\n",
       "    .dataframe tbody tr th:only-of-type {\n",
       "        vertical-align: middle;\n",
       "    }\n",
       "\n",
       "    .dataframe tbody tr th {\n",
       "        vertical-align: top;\n",
       "    }\n",
       "\n",
       "    .dataframe thead th {\n",
       "        text-align: right;\n",
       "    }\n",
       "</style>\n",
       "<table border=\"1\" class=\"dataframe\">\n",
       "  <thead>\n",
       "    <tr style=\"text-align: right;\">\n",
       "      <th></th>\n",
       "      <th>files</th>\n",
       "      <th>blank</th>\n",
       "      <th>comment</th>\n",
       "      <th>code</th>\n",
       "    </tr>\n",
       "    <tr>\n",
       "      <th>language</th>\n",
       "      <th></th>\n",
       "      <th></th>\n",
       "      <th></th>\n",
       "      <th></th>\n",
       "    </tr>\n",
       "  </thead>\n",
       "  <tbody>\n",
       "    <tr>\n",
       "      <th>SUM</th>\n",
       "      <td>28213</td>\n",
       "      <td>410405</td>\n",
       "      <td>327733</td>\n",
       "      <td>3022307</td>\n",
       "    </tr>\n",
       "    <tr>\n",
       "      <th>JavaScript</th>\n",
       "      <td>12220</td>\n",
       "      <td>235742</td>\n",
       "      <td>254824</td>\n",
       "      <td>1530422</td>\n",
       "    </tr>\n",
       "    <tr>\n",
       "      <th>HTML</th>\n",
       "      <td>8873</td>\n",
       "      <td>10793</td>\n",
       "      <td>681</td>\n",
       "      <td>68436</td>\n",
       "    </tr>\n",
       "    <tr>\n",
       "      <th>Arduino Sketch</th>\n",
       "      <td>6295</td>\n",
       "      <td>133002</td>\n",
       "      <td>70553</td>\n",
       "      <td>785111</td>\n",
       "    </tr>\n",
       "    <tr>\n",
       "      <th>GLSL</th>\n",
       "      <td>197</td>\n",
       "      <td>2023</td>\n",
       "      <td>758</td>\n",
       "      <td>6006</td>\n",
       "    </tr>\n",
       "    <tr>\n",
       "      <th>CSS</th>\n",
       "      <td>178</td>\n",
       "      <td>266</td>\n",
       "      <td>80</td>\n",
       "      <td>3272</td>\n",
       "    </tr>\n",
       "    <tr>\n",
       "      <th>Text</th>\n",
       "      <td>154</td>\n",
       "      <td>27068</td>\n",
       "      <td>0</td>\n",
       "      <td>290111</td>\n",
       "    </tr>\n",
       "    <tr>\n",
       "      <th>SVG</th>\n",
       "      <td>123</td>\n",
       "      <td>2</td>\n",
       "      <td>70</td>\n",
       "      <td>8367</td>\n",
       "    </tr>\n",
       "    <tr>\n",
       "      <th>JSON</th>\n",
       "      <td>62</td>\n",
       "      <td>21</td>\n",
       "      <td>0</td>\n",
       "      <td>86908</td>\n",
       "    </tr>\n",
       "    <tr>\n",
       "      <th>Java</th>\n",
       "      <td>53</td>\n",
       "      <td>1486</td>\n",
       "      <td>767</td>\n",
       "      <td>7955</td>\n",
       "    </tr>\n",
       "    <tr>\n",
       "      <th>CSV</th>\n",
       "      <td>46</td>\n",
       "      <td>0</td>\n",
       "      <td>0</td>\n",
       "      <td>235673</td>\n",
       "    </tr>\n",
       "    <tr>\n",
       "      <th>Properties</th>\n",
       "      <td>8</td>\n",
       "      <td>0</td>\n",
       "      <td>0</td>\n",
       "      <td>15</td>\n",
       "    </tr>\n",
       "    <tr>\n",
       "      <th>XML</th>\n",
       "      <td>2</td>\n",
       "      <td>2</td>\n",
       "      <td>0</td>\n",
       "      <td>26</td>\n",
       "    </tr>\n",
       "    <tr>\n",
       "      <th>Markdown</th>\n",
       "      <td>1</td>\n",
       "      <td>0</td>\n",
       "      <td>0</td>\n",
       "      <td>4</td>\n",
       "    </tr>\n",
       "    <tr>\n",
       "      <th>PHP</th>\n",
       "      <td>1</td>\n",
       "      <td>0</td>\n",
       "      <td>0</td>\n",
       "      <td>1</td>\n",
       "    </tr>\n",
       "  </tbody>\n",
       "</table>\n",
       "</div>"
      ],
      "text/plain": [
       "                files   blank  comment     code\n",
       "language                                       \n",
       "SUM             28213  410405   327733  3022307\n",
       "JavaScript      12220  235742   254824  1530422\n",
       "HTML             8873   10793      681    68436\n",
       "Arduino Sketch   6295  133002    70553   785111\n",
       "GLSL              197    2023      758     6006\n",
       "CSS               178     266       80     3272\n",
       "Text              154   27068        0   290111\n",
       "SVG               123       2       70     8367\n",
       "JSON               62      21        0    86908\n",
       "Java               53    1486      767     7955\n",
       "CSV                46       0        0   235673\n",
       "Properties          8       0        0       15\n",
       "XML                 2       2        0       26\n",
       "Markdown            1       0        0        4\n",
       "PHP                 1       0        0        1"
      ]
     },
     "execution_count": 6,
     "metadata": {},
     "output_type": "execute_result"
    }
   ],
   "source": [
    "# read the csv file\n",
    "df_hearted = pd.read_csv(\"../analysis/cloc_hearted_skip_unique.csv\")\n",
    "df_hearted.set_index('language', inplace = True)\n",
    "df_hearted.sort_values(by=['files'], ascending=False, inplace=True)\n",
    "df_hearted"
   ]
  },
  {
   "cell_type": "code",
   "execution_count": 7,
   "id": "9039cca5",
   "metadata": {},
   "outputs": [
    {
     "data": {
      "text/plain": [
       "1.9873908143138912"
      ]
     },
     "execution_count": 7,
     "metadata": {},
     "output_type": "execute_result"
    }
   ],
   "source": [
    "# avg files per sketch\n",
    "df_hearted.at['SUM', 'files']/n_sketches_hearted"
   ]
  },
  {
   "cell_type": "code",
   "execution_count": 8,
   "id": "4548daac",
   "metadata": {},
   "outputs": [
    {
     "name": "stdout",
     "output_type": "stream",
     "text": [
      "825\n"
     ]
    },
    {
     "data": {
      "text/plain": [
       "0.058114961961115805"
      ]
     },
     "execution_count": 8,
     "metadata": {},
     "output_type": "execute_result"
    }
   ],
   "source": [
    "# total files not js, html or pde\n",
    "total = df_hearted['files'][4:].sum()\n",
    "print(total)\n",
    "\n",
    "# avg other files per sketch\n",
    "total/n_sketches_hearted"
   ]
  },
  {
   "cell_type": "code",
   "execution_count": 9,
   "id": "e66bf781",
   "metadata": {},
   "outputs": [
    {
     "name": "stdout",
     "output_type": "stream",
     "text": [
      "27388\n"
     ]
    },
    {
     "data": {
      "text/plain": [
       "1.9292758523527753"
      ]
     },
     "execution_count": 9,
     "metadata": {},
     "output_type": "execute_result"
    }
   ],
   "source": [
    "# total files not js, html or pde\n",
    "total = df_hearted['files'][1:4].sum()\n",
    "print(total)\n",
    "\n",
    "# avg other files per sketch\n",
    "total/n_sketches_hearted"
   ]
  },
  {
   "cell_type": "markdown",
   "id": "c3346694",
   "metadata": {},
   "source": [
    "### Total"
   ]
  },
  {
   "cell_type": "code",
   "execution_count": 10,
   "id": "dec93d67",
   "metadata": {
    "scrolled": false
   },
   "outputs": [
    {
     "data": {
      "text/html": [
       "<div>\n",
       "<style scoped>\n",
       "    .dataframe tbody tr th:only-of-type {\n",
       "        vertical-align: middle;\n",
       "    }\n",
       "\n",
       "    .dataframe tbody tr th {\n",
       "        vertical-align: top;\n",
       "    }\n",
       "\n",
       "    .dataframe thead th {\n",
       "        text-align: right;\n",
       "    }\n",
       "</style>\n",
       "<table border=\"1\" class=\"dataframe\">\n",
       "  <thead>\n",
       "    <tr style=\"text-align: right;\">\n",
       "      <th></th>\n",
       "      <th>files</th>\n",
       "      <th>blank</th>\n",
       "      <th>comment</th>\n",
       "      <th>code</th>\n",
       "    </tr>\n",
       "    <tr>\n",
       "      <th>language</th>\n",
       "      <th></th>\n",
       "      <th></th>\n",
       "      <th></th>\n",
       "      <th></th>\n",
       "    </tr>\n",
       "  </thead>\n",
       "  <tbody>\n",
       "    <tr>\n",
       "      <th>SUM</th>\n",
       "      <td>56580.0</td>\n",
       "      <td>643011.0</td>\n",
       "      <td>524353.0</td>\n",
       "      <td>5375995.0</td>\n",
       "    </tr>\n",
       "    <tr>\n",
       "      <th>JavaScript</th>\n",
       "      <td>25080.0</td>\n",
       "      <td>410032.0</td>\n",
       "      <td>430711.0</td>\n",
       "      <td>2640081.0</td>\n",
       "    </tr>\n",
       "    <tr>\n",
       "      <th>HTML</th>\n",
       "      <td>19114.0</td>\n",
       "      <td>22959.0</td>\n",
       "      <td>1134.0</td>\n",
       "      <td>194637.0</td>\n",
       "    </tr>\n",
       "    <tr>\n",
       "      <th>Arduino Sketch</th>\n",
       "      <td>10867.0</td>\n",
       "      <td>175919.0</td>\n",
       "      <td>89992.0</td>\n",
       "      <td>1094480.0</td>\n",
       "    </tr>\n",
       "    <tr>\n",
       "      <th>CSS</th>\n",
       "      <td>580.0</td>\n",
       "      <td>867.0</td>\n",
       "      <td>289.0</td>\n",
       "      <td>9009.0</td>\n",
       "    </tr>\n",
       "    <tr>\n",
       "      <th>GLSL</th>\n",
       "      <td>280.0</td>\n",
       "      <td>3146.0</td>\n",
       "      <td>1244.0</td>\n",
       "      <td>8999.0</td>\n",
       "    </tr>\n",
       "    <tr>\n",
       "      <th>Text</th>\n",
       "      <td>266.0</td>\n",
       "      <td>28436.0</td>\n",
       "      <td>0.0</td>\n",
       "      <td>889531.0</td>\n",
       "    </tr>\n",
       "    <tr>\n",
       "      <th>SVG</th>\n",
       "      <td>160.0</td>\n",
       "      <td>4.0</td>\n",
       "      <td>75.0</td>\n",
       "      <td>9191.0</td>\n",
       "    </tr>\n",
       "    <tr>\n",
       "      <th>JSON</th>\n",
       "      <td>87.0</td>\n",
       "      <td>28.0</td>\n",
       "      <td>0.0</td>\n",
       "      <td>113881.0</td>\n",
       "    </tr>\n",
       "    <tr>\n",
       "      <th>CSV</th>\n",
       "      <td>67.0</td>\n",
       "      <td>0.0</td>\n",
       "      <td>0.0</td>\n",
       "      <td>407122.0</td>\n",
       "    </tr>\n",
       "    <tr>\n",
       "      <th>Java</th>\n",
       "      <td>54.0</td>\n",
       "      <td>1567.0</td>\n",
       "      <td>890.0</td>\n",
       "      <td>8896.0</td>\n",
       "    </tr>\n",
       "    <tr>\n",
       "      <th>Markdown</th>\n",
       "      <td>11.0</td>\n",
       "      <td>10.0</td>\n",
       "      <td>0.0</td>\n",
       "      <td>44.0</td>\n",
       "    </tr>\n",
       "    <tr>\n",
       "      <th>Properties</th>\n",
       "      <td>9.0</td>\n",
       "      <td>0.0</td>\n",
       "      <td>0.0</td>\n",
       "      <td>17.0</td>\n",
       "    </tr>\n",
       "    <tr>\n",
       "      <th>XML</th>\n",
       "      <td>2.0</td>\n",
       "      <td>2.0</td>\n",
       "      <td>0.0</td>\n",
       "      <td>26.0</td>\n",
       "    </tr>\n",
       "    <tr>\n",
       "      <th>INI</th>\n",
       "      <td>1.0</td>\n",
       "      <td>1.0</td>\n",
       "      <td>0.0</td>\n",
       "      <td>4.0</td>\n",
       "    </tr>\n",
       "    <tr>\n",
       "      <th>PHP</th>\n",
       "      <td>1.0</td>\n",
       "      <td>0.0</td>\n",
       "      <td>0.0</td>\n",
       "      <td>1.0</td>\n",
       "    </tr>\n",
       "    <tr>\n",
       "      <th>Python</th>\n",
       "      <td>1.0</td>\n",
       "      <td>40.0</td>\n",
       "      <td>18.0</td>\n",
       "      <td>76.0</td>\n",
       "    </tr>\n",
       "  </tbody>\n",
       "</table>\n",
       "</div>"
      ],
      "text/plain": [
       "                  files     blank   comment       code\n",
       "language                                              \n",
       "SUM             56580.0  643011.0  524353.0  5375995.0\n",
       "JavaScript      25080.0  410032.0  430711.0  2640081.0\n",
       "HTML            19114.0   22959.0    1134.0   194637.0\n",
       "Arduino Sketch  10867.0  175919.0   89992.0  1094480.0\n",
       "CSS               580.0     867.0     289.0     9009.0\n",
       "GLSL              280.0    3146.0    1244.0     8999.0\n",
       "Text              266.0   28436.0       0.0   889531.0\n",
       "SVG               160.0       4.0      75.0     9191.0\n",
       "JSON               87.0      28.0       0.0   113881.0\n",
       "CSV                67.0       0.0       0.0   407122.0\n",
       "Java               54.0    1567.0     890.0     8896.0\n",
       "Markdown           11.0      10.0       0.0       44.0\n",
       "Properties          9.0       0.0       0.0       17.0\n",
       "XML                 2.0       2.0       0.0       26.0\n",
       "INI                 1.0       1.0       0.0        4.0\n",
       "PHP                 1.0       0.0       0.0        1.0\n",
       "Python              1.0      40.0      18.0       76.0"
      ]
     },
     "execution_count": 10,
     "metadata": {},
     "output_type": "execute_result"
    }
   ],
   "source": [
    "df_total = df_created.add(df_hearted, fill_value=0)\n",
    "df_total.sort_values(by=['files'], ascending=False, inplace=True)\n",
    "df_total"
   ]
  },
  {
   "cell_type": "code",
   "execution_count": 11,
   "id": "030954c1",
   "metadata": {},
   "outputs": [
    {
     "data": {
      "text/plain": [
       "1.9688217690862273"
      ]
     },
     "execution_count": 11,
     "metadata": {},
     "output_type": "execute_result"
    }
   ],
   "source": [
    "# avg files per sketch\n",
    "df_total.at['SUM', 'files']/n_sketches_total"
   ]
  },
  {
   "cell_type": "code",
   "execution_count": 12,
   "id": "5519a359",
   "metadata": {},
   "outputs": [
    {
     "name": "stdout",
     "output_type": "stream",
     "text": [
      "1519.0\n"
     ]
    },
    {
     "data": {
      "text/plain": [
       "0.05285684459600529"
      ]
     },
     "execution_count": 12,
     "metadata": {},
     "output_type": "execute_result"
    }
   ],
   "source": [
    "# total files not js, html or pde\n",
    "total = df_total['files'][4:].sum()\n",
    "print(total)\n",
    "\n",
    "# avg other files per sketch\n",
    "total/n_sketches_total"
   ]
  },
  {
   "cell_type": "code",
   "execution_count": 13,
   "id": "df2abbf3",
   "metadata": {},
   "outputs": [
    {
     "name": "stdout",
     "output_type": "stream",
     "text": [
      "55061.0\n"
     ]
    },
    {
     "data": {
      "text/plain": [
       "1.915964924490222"
      ]
     },
     "execution_count": 13,
     "metadata": {},
     "output_type": "execute_result"
    }
   ],
   "source": [
    "# total files not js, html or pde\n",
    "total = df_total['files'][1:4].sum()\n",
    "print(total)\n",
    "\n",
    "# avg other files per sketch\n",
    "total/n_sketches_total"
   ]
  },
  {
   "cell_type": "markdown",
   "id": "ca43efcf",
   "metadata": {},
   "source": [
    "The grand majority of sketches dont really use external media (svg) or means of information (json, csv, xml) or styling (css, glsl -- shading lang) \n",
    "Each sketch on avg has 0.05 files of these types, compared to the 1.9 files of type js, pde or html that each sketch has."
   ]
  },
  {
   "cell_type": "markdown",
   "id": "d8d9a8c4",
   "metadata": {},
   "source": [
    "## Per language"
   ]
  },
  {
   "cell_type": "markdown",
   "id": "2a0fc78a",
   "metadata": {},
   "source": [
    "### Javascript"
   ]
  },
  {
   "cell_type": "code",
   "execution_count": 14,
   "id": "014a9367",
   "metadata": {},
   "outputs": [
    {
     "data": {
      "text/html": [
       "<div>\n",
       "<style scoped>\n",
       "    .dataframe tbody tr th:only-of-type {\n",
       "        vertical-align: middle;\n",
       "    }\n",
       "\n",
       "    .dataframe tbody tr th {\n",
       "        vertical-align: top;\n",
       "    }\n",
       "\n",
       "    .dataframe thead th {\n",
       "        text-align: right;\n",
       "    }\n",
       "</style>\n",
       "<table border=\"1\" class=\"dataframe\">\n",
       "  <thead>\n",
       "    <tr style=\"text-align: right;\">\n",
       "      <th></th>\n",
       "      <th>total files</th>\n",
       "      <th>JavaScript files</th>\n",
       "      <th>% JavaScript files</th>\n",
       "      <th>avg JavaScript files per sketch</th>\n",
       "      <th>total loc JavaScript</th>\n",
       "      <th>avg loc per file</th>\n",
       "      <th>total comments JavaScript</th>\n",
       "      <th>avg comments per file</th>\n",
       "    </tr>\n",
       "    <tr>\n",
       "      <th>Group</th>\n",
       "      <th></th>\n",
       "      <th></th>\n",
       "      <th></th>\n",
       "      <th></th>\n",
       "      <th></th>\n",
       "      <th></th>\n",
       "      <th></th>\n",
       "      <th></th>\n",
       "    </tr>\n",
       "  </thead>\n",
       "  <tbody>\n",
       "    <tr>\n",
       "      <th>created</th>\n",
       "      <td>28367</td>\n",
       "      <td>12860</td>\n",
       "      <td>45.33</td>\n",
       "      <td>0.884335</td>\n",
       "      <td>1109659</td>\n",
       "      <td>86.29</td>\n",
       "      <td>175887</td>\n",
       "      <td>13.68</td>\n",
       "    </tr>\n",
       "    <tr>\n",
       "      <th>hearted</th>\n",
       "      <td>28213</td>\n",
       "      <td>12220</td>\n",
       "      <td>43.31</td>\n",
       "      <td>0.860806</td>\n",
       "      <td>1530422</td>\n",
       "      <td>125.24</td>\n",
       "      <td>254824</td>\n",
       "      <td>20.85</td>\n",
       "    </tr>\n",
       "    <tr>\n",
       "      <th>total</th>\n",
       "      <td>56580</td>\n",
       "      <td>25080</td>\n",
       "      <td>44.33</td>\n",
       "      <td>0.872712</td>\n",
       "      <td>2640081</td>\n",
       "      <td>105.27</td>\n",
       "      <td>430711</td>\n",
       "      <td>17.17</td>\n",
       "    </tr>\n",
       "  </tbody>\n",
       "</table>\n",
       "</div>"
      ],
      "text/plain": [
       "         total files  JavaScript files  % JavaScript files  \\\n",
       "Group                                                        \n",
       "created        28367             12860               45.33   \n",
       "hearted        28213             12220               43.31   \n",
       "total          56580             25080               44.33   \n",
       "\n",
       "         avg JavaScript files per sketch  total loc JavaScript  \\\n",
       "Group                                                            \n",
       "created                         0.884335               1109659   \n",
       "hearted                         0.860806               1530422   \n",
       "total                           0.872712               2640081   \n",
       "\n",
       "         avg loc per file  total comments JavaScript  avg comments per file  \n",
       "Group                                                                        \n",
       "created             86.29                     175887                  13.68  \n",
       "hearted            125.24                     254824                  20.85  \n",
       "total              105.27                     430711                  17.17  "
      ]
     },
     "execution_count": 14,
     "metadata": {},
     "output_type": "execute_result"
    }
   ],
   "source": [
    "# read the csv file\n",
    "df_javascript = pd.read_csv(\"../analysis/cloc_analysis_JavaScript.csv\")\n",
    "\n",
    "# view the first few rows of data\n",
    "df_javascript.set_index('Group')"
   ]
  },
  {
   "cell_type": "markdown",
   "id": "01735cdb",
   "metadata": {},
   "source": [
    "### Arduino Sketch aka pde aka processing"
   ]
  },
  {
   "cell_type": "code",
   "execution_count": 15,
   "id": "f9effe75",
   "metadata": {},
   "outputs": [
    {
     "data": {
      "text/html": [
       "<div>\n",
       "<style scoped>\n",
       "    .dataframe tbody tr th:only-of-type {\n",
       "        vertical-align: middle;\n",
       "    }\n",
       "\n",
       "    .dataframe tbody tr th {\n",
       "        vertical-align: top;\n",
       "    }\n",
       "\n",
       "    .dataframe thead th {\n",
       "        text-align: right;\n",
       "    }\n",
       "</style>\n",
       "<table border=\"1\" class=\"dataframe\">\n",
       "  <thead>\n",
       "    <tr style=\"text-align: right;\">\n",
       "      <th></th>\n",
       "      <th>total files</th>\n",
       "      <th>Arduino Sketch files</th>\n",
       "      <th>% Arduino Sketch files</th>\n",
       "      <th>avg Arduino Sketch files per sketch</th>\n",
       "      <th>total loc Arduino Sketch</th>\n",
       "      <th>avg loc per file</th>\n",
       "      <th>total comments Arduino Sketch</th>\n",
       "      <th>avg comments per file</th>\n",
       "    </tr>\n",
       "    <tr>\n",
       "      <th>Group</th>\n",
       "      <th></th>\n",
       "      <th></th>\n",
       "      <th></th>\n",
       "      <th></th>\n",
       "      <th></th>\n",
       "      <th></th>\n",
       "      <th></th>\n",
       "      <th></th>\n",
       "    </tr>\n",
       "  </thead>\n",
       "  <tbody>\n",
       "    <tr>\n",
       "      <th>created</th>\n",
       "      <td>28367</td>\n",
       "      <td>4572</td>\n",
       "      <td>16.12</td>\n",
       "      <td>0.314400</td>\n",
       "      <td>309369</td>\n",
       "      <td>67.67</td>\n",
       "      <td>19439</td>\n",
       "      <td>4.25</td>\n",
       "    </tr>\n",
       "    <tr>\n",
       "      <th>hearted</th>\n",
       "      <td>28213</td>\n",
       "      <td>6295</td>\n",
       "      <td>22.31</td>\n",
       "      <td>0.443435</td>\n",
       "      <td>785111</td>\n",
       "      <td>124.72</td>\n",
       "      <td>70553</td>\n",
       "      <td>11.21</td>\n",
       "    </tr>\n",
       "    <tr>\n",
       "      <th>total</th>\n",
       "      <td>56580</td>\n",
       "      <td>10867</td>\n",
       "      <td>19.21</td>\n",
       "      <td>0.378140</td>\n",
       "      <td>1094480</td>\n",
       "      <td>100.72</td>\n",
       "      <td>89992</td>\n",
       "      <td>8.28</td>\n",
       "    </tr>\n",
       "  </tbody>\n",
       "</table>\n",
       "</div>"
      ],
      "text/plain": [
       "         total files  Arduino Sketch files  % Arduino Sketch files  \\\n",
       "Group                                                                \n",
       "created        28367                  4572                   16.12   \n",
       "hearted        28213                  6295                   22.31   \n",
       "total          56580                 10867                   19.21   \n",
       "\n",
       "         avg Arduino Sketch files per sketch  total loc Arduino Sketch  \\\n",
       "Group                                                                    \n",
       "created                             0.314400                    309369   \n",
       "hearted                             0.443435                    785111   \n",
       "total                               0.378140                   1094480   \n",
       "\n",
       "         avg loc per file  total comments Arduino Sketch  \\\n",
       "Group                                                      \n",
       "created             67.67                          19439   \n",
       "hearted            124.72                          70553   \n",
       "total              100.72                          89992   \n",
       "\n",
       "         avg comments per file  \n",
       "Group                           \n",
       "created                   4.25  \n",
       "hearted                  11.21  \n",
       "total                     8.28  "
      ]
     },
     "execution_count": 15,
     "metadata": {},
     "output_type": "execute_result"
    }
   ],
   "source": [
    "# read the csv file\n",
    "df_processing = pd.read_csv(\"../analysis/cloc_analysis_Arduino Sketch.csv\")\n",
    "\n",
    "# view the first few rows of data\n",
    "df_processing.set_index('Group')"
   ]
  },
  {
   "cell_type": "markdown",
   "id": "a6b6dc54",
   "metadata": {},
   "source": [
    "### HTML"
   ]
  },
  {
   "cell_type": "code",
   "execution_count": 16,
   "id": "26574930",
   "metadata": {},
   "outputs": [
    {
     "data": {
      "text/html": [
       "<div>\n",
       "<style scoped>\n",
       "    .dataframe tbody tr th:only-of-type {\n",
       "        vertical-align: middle;\n",
       "    }\n",
       "\n",
       "    .dataframe tbody tr th {\n",
       "        vertical-align: top;\n",
       "    }\n",
       "\n",
       "    .dataframe thead th {\n",
       "        text-align: right;\n",
       "    }\n",
       "</style>\n",
       "<table border=\"1\" class=\"dataframe\">\n",
       "  <thead>\n",
       "    <tr style=\"text-align: right;\">\n",
       "      <th></th>\n",
       "      <th>total files</th>\n",
       "      <th>HTML files</th>\n",
       "      <th>% HTML files</th>\n",
       "      <th>avg HTML files per sketch</th>\n",
       "      <th>total loc HTML</th>\n",
       "      <th>avg loc per file</th>\n",
       "      <th>total comments HTML</th>\n",
       "      <th>avg comments per file</th>\n",
       "    </tr>\n",
       "    <tr>\n",
       "      <th>Group</th>\n",
       "      <th></th>\n",
       "      <th></th>\n",
       "      <th></th>\n",
       "      <th></th>\n",
       "      <th></th>\n",
       "      <th></th>\n",
       "      <th></th>\n",
       "      <th></th>\n",
       "    </tr>\n",
       "  </thead>\n",
       "  <tbody>\n",
       "    <tr>\n",
       "      <th>created</th>\n",
       "      <td>28367</td>\n",
       "      <td>10241</td>\n",
       "      <td>36.10</td>\n",
       "      <td>0.704236</td>\n",
       "      <td>126201</td>\n",
       "      <td>12.32</td>\n",
       "      <td>453</td>\n",
       "      <td>0.04</td>\n",
       "    </tr>\n",
       "    <tr>\n",
       "      <th>hearted</th>\n",
       "      <td>28213</td>\n",
       "      <td>8873</td>\n",
       "      <td>31.45</td>\n",
       "      <td>0.625035</td>\n",
       "      <td>68436</td>\n",
       "      <td>7.71</td>\n",
       "      <td>681</td>\n",
       "      <td>0.08</td>\n",
       "    </tr>\n",
       "    <tr>\n",
       "      <th>total</th>\n",
       "      <td>56580</td>\n",
       "      <td>19114</td>\n",
       "      <td>33.78</td>\n",
       "      <td>0.665112</td>\n",
       "      <td>194637</td>\n",
       "      <td>10.18</td>\n",
       "      <td>1134</td>\n",
       "      <td>0.06</td>\n",
       "    </tr>\n",
       "  </tbody>\n",
       "</table>\n",
       "</div>"
      ],
      "text/plain": [
       "         total files  HTML files  % HTML files  avg HTML files per sketch  \\\n",
       "Group                                                                       \n",
       "created        28367       10241         36.10                   0.704236   \n",
       "hearted        28213        8873         31.45                   0.625035   \n",
       "total          56580       19114         33.78                   0.665112   \n",
       "\n",
       "         total loc HTML  avg loc per file  total comments HTML  \\\n",
       "Group                                                            \n",
       "created          126201             12.32                  453   \n",
       "hearted           68436              7.71                  681   \n",
       "total            194637             10.18                 1134   \n",
       "\n",
       "         avg comments per file  \n",
       "Group                           \n",
       "created                   0.04  \n",
       "hearted                   0.08  \n",
       "total                     0.06  "
      ]
     },
     "execution_count": 16,
     "metadata": {},
     "output_type": "execute_result"
    }
   ],
   "source": [
    "# read the csv file\n",
    "df_html = pd.read_csv(\"../analysis/cloc_analysis_HTML.csv\")\n",
    "\n",
    "# view the first few rows of data\n",
    "df_html.set_index('Group')"
   ]
  },
  {
   "cell_type": "code",
   "execution_count": null,
   "id": "f6f4ae29",
   "metadata": {},
   "outputs": [],
   "source": []
  },
  {
   "cell_type": "code",
   "execution_count": null,
   "id": "ef94ad42",
   "metadata": {},
   "outputs": [],
   "source": []
  }
 ],
 "metadata": {
  "kernelspec": {
   "display_name": "Python 3 (ipykernel)",
   "language": "python",
   "name": "python3"
  },
  "language_info": {
   "codemirror_mode": {
    "name": "ipython",
    "version": 3
   },
   "file_extension": ".py",
   "mimetype": "text/x-python",
   "name": "python",
   "nbconvert_exporter": "python",
   "pygments_lexer": "ipython3",
   "version": "3.10.2"
  }
 },
 "nbformat": 4,
 "nbformat_minor": 5
}
